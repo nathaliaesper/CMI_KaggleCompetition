{
 "cells": [
  {
   "cell_type": "code",
   "execution_count": 4,
   "id": "00ab2e3e-a4e9-47a4-89be-92fa522518b2",
   "metadata": {},
   "outputs": [],
   "source": [
    "import csv\n",
    "import pandas as pd\n",
    "import random\n",
    "from datetime import datetime, timedelta\n",
    "import os\n",
    "import shutil"
   ]
  },
  {
   "cell_type": "code",
   "execution_count": 28,
   "id": "03885b2a-01b8-4551-a95f-ab847b9c53f5",
   "metadata": {},
   "outputs": [],
   "source": [
    "\n",
    "def change_timestamp(df):\n",
    "\n",
    "    df['timestamp_new'] = pd.to_datetime(df['timestamp'].str[:-5], format='%Y-%m-%dT%H:%M:%S')\n",
    "    df['new_timestamp'] = df['timestamp_new'] + timedelta(weeks=1)\n",
    "    df['new_timestamp'] = df['new_timestamp'].dt.strftime('%Y-%m-%dT%H:%M:%S')\n",
    "    df['new_timestamp'] = df['new_timestamp']+'-'+df['timestamp'].str[-4:]\n",
    "    df['timestamp'] = df['new_timestamp']\n",
    "    df = df.drop(columns=['timestamp_new', 'new_timestamp'])\n",
    "\n",
    "    return df\n"
   ]
  },
  {
   "cell_type": "code",
   "execution_count": 35,
   "id": "53924342-a5bb-43d4-af7f-ed9ff78a11a5",
   "metadata": {},
   "outputs": [
    {
     "name": "stdout",
     "output_type": "stream",
     "text": [
      "Files copied and modified successfully!\n"
     ]
    }
   ],
   "source": [
    "\n",
    "# Define the source and destination folders\n",
    "source_folder = 'csv_files'\n",
    "destination_folder = 'csv_files_new_timestamp'\n",
    "\n",
    "# Get a list of files in the source folder\n",
    "file_list = os.listdir(source_folder)\n",
    "\n",
    "# Iterate over each file in the source folder\n",
    "for file_name in file_list:\n",
    "    \n",
    "    # Create the source and destination file paths\n",
    "    source_file_path = os.path.join(source_folder, file_name)\n",
    "    destination_file_path = os.path.join(destination_folder, file_name)\n",
    "\n",
    "    # Read the contents of the file\n",
    "    df = pd.read_csv(source_file_path)\n",
    "\n",
    "    new_dataframe = change_timestamp(df)\n",
    "\n",
    "    # Write the modified contents to the destination file\n",
    "    new_dataframe.to_csv(destination_file_path, index=False)\n",
    "\n",
    "    # Optionally, you can also copy the file instead of modifying its contents\n",
    "    # shutil.copy(source_file_path, destination_file_path)\n",
    "\n",
    "print(\"Files copied and modified successfully!\")\n"
   ]
  }
 ],
 "metadata": {
  "kernelspec": {
   "display_name": "Python 3 (ipykernel)",
   "language": "python",
   "name": "python3"
  },
  "language_info": {
   "codemirror_mode": {
    "name": "ipython",
    "version": 3
   },
   "file_extension": ".py",
   "mimetype": "text/x-python",
   "name": "python",
   "nbconvert_exporter": "python",
   "pygments_lexer": "ipython3",
   "version": "3.8.13"
  }
 },
 "nbformat": 4,
 "nbformat_minor": 5
}
